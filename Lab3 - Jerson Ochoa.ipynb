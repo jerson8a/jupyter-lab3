{
 "cells": [
  {
   "attachments": {},
   "cell_type": "markdown",
   "id": "eda45158",
   "metadata": {},
   "source": [
    "## Laboratorio: Análisis de datos con Python\n",
    "#### Jerson Ochoa"
   ]
  },
  {
   "attachments": {},
   "cell_type": "markdown",
   "id": "f7887229",
   "metadata": {},
   "source": [
    "#### Parte 1: Numpy\n",
    "Para los ejercicios siguientes genere el código que considere para resolver el problema que se le plantea"
   ]
  },
  {
   "cell_type": "code",
   "execution_count": 1,
   "id": "caa0d8f1",
   "metadata": {},
   "outputs": [
    {
     "name": "stdout",
     "output_type": "stream",
     "text": [
      "Array memory size: 1000\n"
     ]
    }
   ],
   "source": [
    "# 1. ¿Cuál es el tamaño en bytes de un array de 1000 elementos de tipo booleano? 8856\n",
    "\n",
    "import numpy as np\n",
    "\n",
    "arrBool = np.array([], dtype=bool)\n",
    "for i in range (1000):\n",
    "    if (i % 2 == 0):\n",
    "        arrBool = np.append(arrBool, True)\n",
    "    else:  \n",
    "        arrBool = np.append(arrBool, False)\n",
    "\n",
    "print(\"Array memory size: {}\".format(arrBool.size * arrBool.itemsize))\n"
   ]
  },
  {
   "cell_type": "code",
   "execution_count": 8,
   "metadata": {},
   "outputs": [
    {
     "name": "stdout",
     "output_type": "stream",
     "text": [
      "[ 82  84  86  88  90  92  94  96  98 100]\n"
     ]
    }
   ],
   "source": [
    "# 2. Cree un array cuyos elementos sean los enteros pares en [1, 100] y en orden decreciente. Muestre los 10 últimos en pantalla.\n",
    "\n",
    "arrPares = np.array([], dtype=int)\n",
    "for i in  (np.arange(101)[1:101]):\n",
    "    if(i%2 == 0):\n",
    "        arrPares = np.append(arrPares, i)\n",
    "\n",
    "print(arrPares[-10:])"
   ]
  },
  {
   "cell_type": "code",
   "execution_count": 34,
   "id": "049ef38b",
   "metadata": {},
   "outputs": [
    {
     "name": "stdout",
     "output_type": "stream",
     "text": [
      "Inciso 1:  [0 3 7 4]\n",
      "Inciso 2:  [[2 5]\n",
      " [8 5]]\n"
     ]
    }
   ],
   "source": [
    "# 3. Dado el array \n",
    "# 2 4 5 6\n",
    "# 0 3 7 4\n",
    "# 8 8 5 2\n",
    "# 1 5 6 1\n",
    "# Seleccione con una instrucción el subarray de elementos 0 3 7 4\n",
    "\n",
    "# Definimos el arreglo\n",
    "arrMatrix = np.array([[2, 4, 5, 6], [0, 3, 7, 4], [8, 8, 5, 2], [1, 5, 6, 1]])\n",
    "arrMatrix\n",
    "\n",
    "print(\"Inciso 1: \", arrMatrix[1])\n",
    "\n",
    "# Después, seleccione el subarray de elementos 2 5 | 8 5\n",
    "\n",
    "print(\"Inciso 2: \", arrMatrix[0:len(arrMatrix):2, 0:4:2])"
   ]
  },
  {
   "cell_type": "code",
   "execution_count": 42,
   "id": "84f5b334",
   "metadata": {},
   "outputs": [
    {
     "data": {
      "text/plain": [
       "1.0"
      ]
     },
     "execution_count": 42,
     "metadata": {},
     "output_type": "execute_result"
    }
   ],
   "source": [
    "# 4. Dados los arrays a= [1, 4, 2, 7] y b = [1, 3, 2, 9], obtenga la media aritmética de la diferencia (a-b).\n",
    "\n",
    "a = np.array([1, 4, 7, 7])\n",
    "b = np.array([1, 3, 2, 9])\n",
    "\n",
    "c = a - b\n",
    "np.mean(c)"
   ]
  },
  {
   "cell_type": "code",
   "execution_count": 52,
   "id": "d1f6fafa",
   "metadata": {},
   "outputs": [
    {
     "name": "stdout",
     "output_type": "stream",
     "text": [
      "Las dimensiones del array son: (4, 2)\n"
     ]
    }
   ],
   "source": [
    "# 5. Tengo los valores de coordenadas (x, y) en las columnas del array\n",
    "# 1.33 4.5\n",
    "# 30.0 10.7\n",
    "# 70.2 0.5\n",
    "# Agregue a este array las coordenadas (37.1, -3.6) y muestre en pantalla las dimensiones del nuevo array\n",
    "\n",
    "arrCoords = np.array([[1.33, 4.5], \n",
    "                      [30.0, 10.7],\n",
    "                      [70.2, 0.5]])\n",
    "\n",
    "arrCoords = np.append(arrCoords, [[37.1, -3.6]], axis=0)\n",
    "print(\"Las dimensiones del array son: {}\".format(arrCoords.shape))"
   ]
  }
 ],
 "metadata": {
  "kernelspec": {
   "display_name": "base",
   "language": "python",
   "name": "python3"
  },
  "language_info": {
   "codemirror_mode": {
    "name": "ipython",
    "version": 3
   },
   "file_extension": ".py",
   "mimetype": "text/x-python",
   "name": "python",
   "nbconvert_exporter": "python",
   "pygments_lexer": "ipython3",
   "version": "3.9.13"
  }
 },
 "nbformat": 4,
 "nbformat_minor": 5
}
