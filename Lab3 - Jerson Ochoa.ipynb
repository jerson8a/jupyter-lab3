{
 "cells": [
  {
   "attachments": {},
   "cell_type": "markdown",
   "id": "eda45158",
   "metadata": {},
   "source": [
    "## Laboratorio: Análisis de datos con Python\n",
    "#### Jerson Ochoa"
   ]
  },
  {
   "attachments": {},
   "cell_type": "markdown",
   "id": "f7887229",
   "metadata": {},
   "source": [
    "#### Parte 1: Numpy\n",
    "Para los ejercicios siguientes genere el código que considere para resolver el problema que se le plantea"
   ]
  },
  {
   "cell_type": "code",
   "execution_count": 1,
   "id": "caa0d8f1",
   "metadata": {},
   "outputs": [
    {
     "name": "stdout",
     "output_type": "stream",
     "text": [
      "Array memory size: 1000\n"
     ]
    }
   ],
   "source": [
    "# 1. ¿Cuál es el tamaño en bytes de un array de 1000 elementos de tipo booleano? 8856\n",
    "\n",
    "import numpy as np\n",
    "\n",
    "arrBool = np.array([], dtype=bool)\n",
    "for i in range (1000):\n",
    "    if (i % 2 == 0):\n",
    "        arrBool = np.append(arrBool, True)\n",
    "    else:  \n",
    "        arrBool = np.append(arrBool, False)\n",
    "\n",
    "print(\"Array memory size: {}\".format(arrBool.size * arrBool.itemsize))\n"
   ]
  },
  {
   "cell_type": "code",
   "execution_count": null,
   "metadata": {},
   "outputs": [],
   "source": [
    "# 2. Cree un array cuyos elementos sean los enteros pares en [1, 100] y en orden decreciente. Muestre los 10 últimos por pantalla.\n",
    "\n"
   ]
  }
 ],
 "metadata": {
  "kernelspec": {
   "display_name": "base",
   "language": "python",
   "name": "python3"
  },
  "language_info": {
   "codemirror_mode": {
    "name": "ipython",
    "version": 3
   },
   "file_extension": ".py",
   "mimetype": "text/x-python",
   "name": "python",
   "nbconvert_exporter": "python",
   "pygments_lexer": "ipython3",
   "version": "3.9.13"
  }
 },
 "nbformat": 4,
 "nbformat_minor": 5
}
