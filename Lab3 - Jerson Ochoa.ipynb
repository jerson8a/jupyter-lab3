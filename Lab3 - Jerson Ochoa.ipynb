{
 "cells": [
  {
   "attachments": {},
   "cell_type": "markdown",
   "id": "eda45158",
   "metadata": {},
   "source": [
    "## Laboratorio: Análisis de datos con Python\n",
    "#### Jerson Ochoa"
   ]
  },
  {
   "attachments": {},
   "cell_type": "markdown",
   "id": "f7887229",
   "metadata": {},
   "source": [
    "#### Parte 1: Numpy\n",
    "Para los ejercicios siguientes genere el código que considere para resolver el problema que se le plantea"
   ]
  },
  {
   "cell_type": "code",
   "execution_count": 1,
   "id": "caa0d8f1",
   "metadata": {},
   "outputs": [
    {
     "name": "stdout",
     "output_type": "stream",
     "text": [
      "Array memory size: 1000\n"
     ]
    }
   ],
   "source": [
    "# 1. ¿Cuál es el tamaño en bytes de un array de 1000 elementos de tipo booleano? 8856\n",
    "\n",
    "import numpy as np\n",
    "\n",
    "arrBool = np.array([], dtype=bool)\n",
    "for i in range (1000):\n",
    "    if (i % 2 == 0):\n",
    "        arrBool = np.append(arrBool, True)\n",
    "    else:  \n",
    "        arrBool = np.append(arrBool, False)\n",
    "\n",
    "print(\"Array memory size: {}\".format(arrBool.size * arrBool.itemsize))\n"
   ]
  },
  {
   "cell_type": "code",
   "execution_count": 8,
   "metadata": {},
   "outputs": [
    {
     "name": "stdout",
     "output_type": "stream",
     "text": [
      "[ 82  84  86  88  90  92  94  96  98 100]\n"
     ]
    }
   ],
   "source": [
    "# 2. Cree un array cuyos elementos sean los enteros pares en [1, 100] y en orden decreciente. Muestre los 10 últimos en pantalla.\n",
    "\n",
    "arrPares = np.array([], dtype=int)\n",
    "for i in  (np.arange(101)[1:101]):\n",
    "    if(i%2 == 0):\n",
    "        arrPares = np.append(arrPares, i)\n",
    "\n",
    "print(arrPares[-10:])"
   ]
  },
  {
   "cell_type": "code",
   "execution_count": 34,
   "id": "049ef38b",
   "metadata": {},
   "outputs": [
    {
     "name": "stdout",
     "output_type": "stream",
     "text": [
      "Inciso 1:  [0 3 7 4]\n",
      "Inciso 2:  [[2 5]\n",
      " [8 5]]\n"
     ]
    }
   ],
   "source": [
    "# 3. Dado el array \n",
    "# 2 4 5 6\n",
    "# 0 3 7 4\n",
    "# 8 8 5 2\n",
    "# 1 5 6 1\n",
    "# Seleccione con una instrucción el subarray de elementos 0 3 7 4\n",
    "\n",
    "# Definimos el arreglo\n",
    "arrMatrix = np.array([[2, 4, 5, 6], [0, 3, 7, 4], [8, 8, 5, 2], [1, 5, 6, 1]])\n",
    "arrMatrix\n",
    "\n",
    "print(\"Inciso 1: \", arrMatrix[1])\n",
    "\n",
    "# Después, seleccione el subarray de elementos 2 5 | 8 5\n",
    "\n",
    "print(\"Inciso 2: \", arrMatrix[0:len(arrMatrix):2, 0:4:2])"
   ]
  },
  {
   "cell_type": "code",
   "execution_count": 42,
   "id": "84f5b334",
   "metadata": {},
   "outputs": [
    {
     "data": {
      "text/plain": [
       "1.0"
      ]
     },
     "execution_count": 42,
     "metadata": {},
     "output_type": "execute_result"
    }
   ],
   "source": [
    "# 4. Dados los arrays a= [1, 4, 2, 7] y b = [1, 3, 2, 9], obtenga la media aritmética de la diferencia (a-b).\n",
    "\n",
    "a = np.array([1, 4, 7, 7])\n",
    "b = np.array([1, 3, 2, 9])\n",
    "\n",
    "c = a - b\n",
    "np.mean(c)"
   ]
  },
  {
   "cell_type": "code",
   "execution_count": 52,
   "id": "d1f6fafa",
   "metadata": {},
   "outputs": [
    {
     "name": "stdout",
     "output_type": "stream",
     "text": [
      "Las dimensiones del array son: (4, 2)\n"
     ]
    }
   ],
   "source": [
    "# 5. Tengo los valores de coordenadas (x, y) en las columnas del array\n",
    "# 1.33 4.5\n",
    "# 30.0 10.7\n",
    "# 70.2 0.5\n",
    "# Agregue a este array las coordenadas (37.1, -3.6) y muestre en pantalla las dimensiones del nuevo array\n",
    "\n",
    "arrCoords = np.array([[1.33, 4.5], \n",
    "                      [30.0, 10.7],\n",
    "                      [70.2, 0.5]])\n",
    "\n",
    "arrCoords = np.append(arrCoords, [[37.1, -3.6]], axis=0)\n",
    "print(\"Las dimensiones del array son: {}\".format(arrCoords.shape))"
   ]
  },
  {
   "cell_type": "code",
   "execution_count": 67,
   "id": "5c86fdba",
   "metadata": {},
   "outputs": [
    {
     "data": {
      "text/plain": [
       "array([[ 1.33, 30.  ],\n",
       "       [70.2 , 37.1 ],\n",
       "       [ 4.5 , 10.7 ],\n",
       "       [ 0.5 , -3.6 ],\n",
       "       [10.8 ,  3.  ],\n",
       "       [35.8 , 12.  ]])"
      ]
     },
     "execution_count": 67,
     "metadata": {},
     "output_type": "execute_result"
    }
   ],
   "source": [
    "# 6. Copie el array del ejercicio anterior. Transpóngalo. Agregue ahora dos nuevos pares de coordenadas: (10.8, 3.0) y (35.8, 12.0)\n",
    "\n",
    "arrCordsCopy = np.copy(arrCoords)\n",
    "arrCordsCopy = np.transpose(arrCordsCopy).reshape(4,2)\n",
    "arrCordsCopy = np.append(arrCordsCopy, [[10.8, 3.0], [35.8, 12.0]], axis=0)\n",
    "arrCordsCopy"
   ]
  },
  {
   "attachments": {},
   "cell_type": "markdown",
   "id": "3800f811",
   "metadata": {},
   "source": [
    "#### Parte 2: Exploración y minería de datos\n",
    "Con el dataset nucleospoblacion.csv adjunto al laboratorio, responda las siguientes preguntas usando pandas y matplotlib."
   ]
  },
  {
   "cell_type": "code",
   "execution_count": 68,
   "id": "32130f0b",
   "metadata": {},
   "outputs": [],
   "source": [
    "import pandas as pd\n",
    "import matplotlib.pyplot as plt"
   ]
  },
  {
   "cell_type": "code",
   "execution_count": 72,
   "id": "7afa316e",
   "metadata": {},
   "outputs": [
    {
     "data": {
      "text/html": [
       "<div>\n",
       "<style scoped>\n",
       "    .dataframe tbody tr th:only-of-type {\n",
       "        vertical-align: middle;\n",
       "    }\n",
       "\n",
       "    .dataframe tbody tr th {\n",
       "        vertical-align: top;\n",
       "    }\n",
       "\n",
       "    .dataframe thead th {\n",
       "        text-align: right;\n",
       "    }\n",
       "</style>\n",
       "<table border=\"1\" class=\"dataframe\">\n",
       "  <thead>\n",
       "    <tr style=\"text-align: right;\">\n",
       "      <th></th>\n",
       "      <th>FID</th>\n",
       "      <th>OBJECTID</th>\n",
       "      <th>Texto</th>\n",
       "      <th>Poblacion</th>\n",
       "      <th>CodMun</th>\n",
       "      <th>Municipio</th>\n",
       "      <th>CodProvin</th>\n",
       "      <th>Provincia</th>\n",
       "      <th>X</th>\n",
       "      <th>Y</th>\n",
       "    </tr>\n",
       "  </thead>\n",
       "  <tbody>\n",
       "    <tr>\n",
       "      <th>0</th>\n",
       "      <td>0</td>\n",
       "      <td>1</td>\n",
       "      <td>Agüimes</td>\n",
       "      <td>29431.0</td>\n",
       "      <td>35002</td>\n",
       "      <td>Agüimes</td>\n",
       "      <td>35</td>\n",
       "      <td>Las Palmas</td>\n",
       "      <td>-15.446012</td>\n",
       "      <td>27.900542</td>\n",
       "    </tr>\n",
       "    <tr>\n",
       "      <th>1</th>\n",
       "      <td>1</td>\n",
       "      <td>2</td>\n",
       "      <td>Antigua</td>\n",
       "      <td>10458.0</td>\n",
       "      <td>35003</td>\n",
       "      <td>Antigua</td>\n",
       "      <td>35</td>\n",
       "      <td>Las Palmas</td>\n",
       "      <td>-14.013301</td>\n",
       "      <td>28.418966</td>\n",
       "    </tr>\n",
       "    <tr>\n",
       "      <th>2</th>\n",
       "      <td>2</td>\n",
       "      <td>3</td>\n",
       "      <td>Arrecife</td>\n",
       "      <td>58156.0</td>\n",
       "      <td>35004</td>\n",
       "      <td>Arrecife</td>\n",
       "      <td>35</td>\n",
       "      <td>Las Palmas</td>\n",
       "      <td>-13.551451</td>\n",
       "      <td>28.960649</td>\n",
       "    </tr>\n",
       "    <tr>\n",
       "      <th>3</th>\n",
       "      <td>3</td>\n",
       "      <td>4</td>\n",
       "      <td>Arucas</td>\n",
       "      <td>36745.0</td>\n",
       "      <td>35006</td>\n",
       "      <td>Arucas</td>\n",
       "      <td>35</td>\n",
       "      <td>Las Palmas</td>\n",
       "      <td>-15.521512</td>\n",
       "      <td>28.117496</td>\n",
       "    </tr>\n",
       "    <tr>\n",
       "      <th>4</th>\n",
       "      <td>4</td>\n",
       "      <td>5</td>\n",
       "      <td>Gáldar</td>\n",
       "      <td>24473.0</td>\n",
       "      <td>35009</td>\n",
       "      <td>Gáldar</td>\n",
       "      <td>35</td>\n",
       "      <td>Las Palmas</td>\n",
       "      <td>-15.654111</td>\n",
       "      <td>28.143873</td>\n",
       "    </tr>\n",
       "    <tr>\n",
       "      <th>...</th>\n",
       "      <td>...</td>\n",
       "      <td>...</td>\n",
       "      <td>...</td>\n",
       "      <td>...</td>\n",
       "      <td>...</td>\n",
       "      <td>...</td>\n",
       "      <td>...</td>\n",
       "      <td>...</td>\n",
       "      <td>...</td>\n",
       "      <td>...</td>\n",
       "    </tr>\n",
       "    <tr>\n",
       "      <th>847</th>\n",
       "      <td>847</td>\n",
       "      <td>848</td>\n",
       "      <td>Infante Juan Manuel</td>\n",
       "      <td>14192.0</td>\n",
       "      <td>30030</td>\n",
       "      <td>Murcia</td>\n",
       "      <td>30</td>\n",
       "      <td>Murcia</td>\n",
       "      <td>-1.124304</td>\n",
       "      <td>37.979033</td>\n",
       "    </tr>\n",
       "    <tr>\n",
       "      <th>848</th>\n",
       "      <td>848</td>\n",
       "      <td>849</td>\n",
       "      <td>Santa Maria de Gracia</td>\n",
       "      <td>13349.0</td>\n",
       "      <td>30030</td>\n",
       "      <td>Murcia</td>\n",
       "      <td>30</td>\n",
       "      <td>Murcia</td>\n",
       "      <td>-1.202069</td>\n",
       "      <td>37.984024</td>\n",
       "    </tr>\n",
       "    <tr>\n",
       "      <th>849</th>\n",
       "      <td>849</td>\n",
       "      <td>850</td>\n",
       "      <td>Vista Alegre</td>\n",
       "      <td>15208.0</td>\n",
       "      <td>30030</td>\n",
       "      <td>Murcia</td>\n",
       "      <td>30</td>\n",
       "      <td>Murcia</td>\n",
       "      <td>-1.130564</td>\n",
       "      <td>37.995715</td>\n",
       "    </tr>\n",
       "    <tr>\n",
       "      <th>850</th>\n",
       "      <td>850</td>\n",
       "      <td>851</td>\n",
       "      <td>Poligono Sta M de Benquerencia</td>\n",
       "      <td>19177.0</td>\n",
       "      <td>45168</td>\n",
       "      <td>Toledo</td>\n",
       "      <td>45</td>\n",
       "      <td>Toledo</td>\n",
       "      <td>-3.948364</td>\n",
       "      <td>39.866699</td>\n",
       "    </tr>\n",
       "    <tr>\n",
       "      <th>851</th>\n",
       "      <td>851</td>\n",
       "      <td>852</td>\n",
       "      <td>Grao</td>\n",
       "      <td>16367.0</td>\n",
       "      <td>12040</td>\n",
       "      <td>Castellón de la Plana/Castelló de la Plana</td>\n",
       "      <td>12</td>\n",
       "      <td>Castelló/Castellón</td>\n",
       "      <td>0.012911</td>\n",
       "      <td>39.973568</td>\n",
       "    </tr>\n",
       "  </tbody>\n",
       "</table>\n",
       "<p>852 rows × 10 columns</p>\n",
       "</div>"
      ],
      "text/plain": [
       "     FID  OBJECTID                           Texto  Poblacion  CodMun  \\\n",
       "0      0         1                         Agüimes    29431.0   35002   \n",
       "1      1         2                         Antigua    10458.0   35003   \n",
       "2      2         3                        Arrecife    58156.0   35004   \n",
       "3      3         4                          Arucas    36745.0   35006   \n",
       "4      4         5                          Gáldar    24473.0   35009   \n",
       "..   ...       ...                             ...        ...     ...   \n",
       "847  847       848             Infante Juan Manuel    14192.0   30030   \n",
       "848  848       849           Santa Maria de Gracia    13349.0   30030   \n",
       "849  849       850                    Vista Alegre    15208.0   30030   \n",
       "850  850       851  Poligono Sta M de Benquerencia    19177.0   45168   \n",
       "851  851       852                            Grao    16367.0   12040   \n",
       "\n",
       "                                      Municipio  CodProvin  \\\n",
       "0                                       Agüimes         35   \n",
       "1                                       Antigua         35   \n",
       "2                                      Arrecife         35   \n",
       "3                                        Arucas         35   \n",
       "4                                        Gáldar         35   \n",
       "..                                          ...        ...   \n",
       "847                                      Murcia         30   \n",
       "848                                      Murcia         30   \n",
       "849                                      Murcia         30   \n",
       "850                                      Toledo         45   \n",
       "851  Castellón de la Plana/Castelló de la Plana         12   \n",
       "\n",
       "              Provincia          X          Y  \n",
       "0            Las Palmas -15.446012  27.900542  \n",
       "1            Las Palmas -14.013301  28.418966  \n",
       "2            Las Palmas -13.551451  28.960649  \n",
       "3            Las Palmas -15.521512  28.117496  \n",
       "4            Las Palmas -15.654111  28.143873  \n",
       "..                  ...        ...        ...  \n",
       "847              Murcia  -1.124304  37.979033  \n",
       "848              Murcia  -1.202069  37.984024  \n",
       "849              Murcia  -1.130564  37.995715  \n",
       "850              Toledo  -3.948364  39.866699  \n",
       "851  Castelló/Castellón   0.012911  39.973568  \n",
       "\n",
       "[852 rows x 10 columns]"
      ]
     },
     "execution_count": 72,
     "metadata": {},
     "output_type": "execute_result"
    }
   ],
   "source": [
    "# Leyendo csv\n",
    "data = pd.read_csv('./Lab_3_data/NucleosPoblacion.csv')\n",
    "data"
   ]
  },
  {
   "cell_type": "code",
   "execution_count": 76,
   "id": "03dbf922",
   "metadata": {},
   "outputs": [
    {
     "name": "stdout",
     "output_type": "stream",
     "text": [
      "Hay 62 municipios que superan los 100,000 habitantes\n"
     ]
    }
   ],
   "source": [
    "# 1. ¿Cuántos municipios tienen más de 100,000 habitantes?\n",
    "\n",
    "cont = 0\n",
    "for row in range(len(data)):\n",
    "    if (data.iloc[row]['Poblacion'] > 100000):\n",
    "        cont += 1\n",
    "\n",
    "print(\"Hay {} municipios que superan los 100,000 habitantes\".format(cont))"
   ]
  },
  {
   "cell_type": "code",
   "execution_count": 158,
   "id": "8ee361a7",
   "metadata": {},
   "outputs": [
    {
     "name": "stdout",
     "output_type": "stream",
     "text": [
      "La segunda ciudad más poblada es: 50    Barcelona\n",
      "Name: Provincia, dtype: object\n",
      "La posición de Granada en el ranking es 17\n"
     ]
    },
    {
     "data": {
      "image/png": "[encoded data removed]",
      "text/plain": [
       "<Figure size 1000x1000 with 1 Axes>"
      ]
     },
     "metadata": {},
     "output_type": "display_data"
    }
   ],
   "source": [
    "# 2. Realice una gráfica de barras sobre la población de cada ciudad, ordénela de menor a mayor y responda:\n",
    "\n",
    "newData = data.groupby('Provincia', as_index=True).agg(\n",
    "    Poblacion = ('Poblacion', np.sum)\n",
    ")\n",
    "newData = newData.sort_values('Poblacion')\n",
    "newData.reset_index(inplace=True)\n",
    "\n",
    "plt.subplots(1, 1, figsize=(10,10))\n",
    "plt.barh(newData.Provincia, newData.Poblacion)\n",
    "\n",
    "# a. ¿Cuál es la segunda ciudad más poblada?\n",
    "print(\"La segunda ciudad más poblada es: {}\".format(newData[-2:len(newData)-1]['Provincia']))\n",
    "\n",
    "# b. ¿Qué posición ocupa Granada en el ranking de las ciudades más pobladas?\n",
    "print(\"La posición de Granada en el ranking es {}\".format(((newData.index[newData['Provincia'] == \"Granada\"][0])-len(newData))*-1))"
   ]
  },
  {
   "cell_type": "code",
   "execution_count": 171,
   "id": "31bf277a",
   "metadata": {},
   "outputs": [
    {
     "name": "stdout",
     "output_type": "stream",
     "text": [
      "Hay 14 municipios que superan los 5,000 habitantes en Extremadura\n"
     ]
    }
   ],
   "source": [
    "# 3. ¿Cuántos municipios de Extremadura tienen más de 5000 habitantes?\n",
    "# Nota: Extremadura se compone por Cáceres y Badajoz\n",
    "munsBadajoz = data.loc[data[\"Provincia\"] == \"Badajoz\"]\n",
    "munsCaceres = data.loc[data[\"Provincia\"] == \"Cáceres\"]\n",
    "munsExtremadura = pd.concat([munsBadajoz, munsCaceres])\n",
    "\n",
    "cont = 0\n",
    "for row in range(len(munsExtremadura)):\n",
    "    if (data.iloc[row]['Poblacion'] > 5000):\n",
    "        cont += 1\n",
    "\n",
    "print(\"Hay {} municipios que superan los 5,000 habitantes en Extremadura\".format(cont))"
   ]
  }
 ],
 "metadata": {
  "kernelspec": {
   "display_name": "base",
   "language": "python",
   "name": "python3"
  },
  "language_info": {
   "codemirror_mode": {
    "name": "ipython",
    "version": 3
   },
   "file_extension": ".py",
   "mimetype": "text/x-python",
   "name": "python",
   "nbconvert_exporter": "python",
   "pygments_lexer": "ipython3",
   "version": "3.9.13"
  }
 },
 "nbformat": 4,
 "nbformat_minor": 5
}
